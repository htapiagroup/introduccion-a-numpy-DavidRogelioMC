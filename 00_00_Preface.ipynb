{
  "nbformat": 4,
  "nbformat_minor": 0,
  "metadata": {
    "anaconda-cloud": {},
    "kernelspec": {
      "display_name": "Python 3",
      "language": "python",
      "name": "python2"
    },
    "language_info": {
      "codemirror_mode": {
        "name": "ipython",
        "version": 2
      },
      "file_extension": ".py",
      "mimetype": "text/x-python",
      "name": "python",
      "nbconvert_exporter": "python",
      "pygments_lexer": "ipython2",
      "version": "2.7.15"
    },
    "colab": {
      "name": "00.00-Preface.ipynb",
      "provenance": []
    }
  },
  "cells": [
    {
      "cell_type": "markdown",
      "metadata": {
        "id": "i_b-rut73myc",
        "colab_type": "text"
      },
      "source": [
        "<!--BOOK_INFORMATION-->\n",
        "<img align=\"left\" style=\"padding-right:10px;\" src=\"https://github.com/DavidRogelioMC/TallerPythonIntroCienciaDatos/blob/master/notebooks/figures/header_small.png?raw=1\">\n",
        "\n",
        "*Esta libreta contiene material del Taller de Python que se lleva a cabo como parte del \n",
        "evento [Data Challenge Industrial 4.0](www.lania.mx/dci). El contenido ha sido adaptado \n",
        "por HTM y GED a partir del libro [Python Data Science Handbook](http://shop.oreilly.com/product/0636920034919.do) \n",
        "de Jake VanderPlas y se mantiene la licencia sobre el texto, \n",
        "[CC-BY-NC-ND license](https://creativecommons.org/licenses/by-nc-nd/3.0/us/legalcode), \n",
        "y sobre el codigo [MIT license](https://opensource.org/licenses/MIT).*"
      ]
    },
    {
      "cell_type": "markdown",
      "metadata": {
        "id": "tJq-YVkd3mzC",
        "colab_type": "text"
      },
      "source": [
        "<!--NAVIGATION-->\n",
        "| [Contenido](Index.ipynb) | [Introducción a NumPy](01.00-Introduction-to-NumPy.ipynb) >\n",
        "\n",
        "<a href=\"https://colab.research.google.com/github/htapia/TallerPythonIntroCienciaDatos/blob/master/notebooks/00.00-Preface.ipynb\"><img align=\"left\" src=\"https://colab.research.google.com/assets/colab-badge.svg\" alt=\"Open in Colab\" title=\"Open and Execute in Google Colaboratory\"></a>\n"
      ]
    },
    {
      "cell_type": "markdown",
      "metadata": {
        "id": "okcGhLsk3mza",
        "colab_type": "text"
      },
      "source": [
        "# Prefacio"
      ]
    },
    {
      "cell_type": "markdown",
      "metadata": {
        "id": "qiO-6-uI3mzt",
        "colab_type": "text"
      },
      "source": [
        "## ¿Porque un Taller de Python en el DCI?\n",
        "\n",
        "Bienvenidos al Taller de Python del Data Challenge Industrial. Este esfuerzo surgio como una propuesta de valor adicional a la experiencia que tendrán en el DCI. Hace un par de ediciones el Comité Organizador consideró que los participantes deberían llevarase una experiencia del evento que fuera más allá de la oportunidad de proponer soluciones al reto planteado con sus experiencias y surgió el Taller de Python.\n",
        "\n",
        "Elegimos el lenguaje de programación Python por su flexibilidad, sencillez y por su amplio soporte sostenido por una comunidad especializada que ha desarrollado un ecosistema efectivo para el análisis de datos.\n",
        "\n",
        "De este modo, desde la edición DCI 3.0 hemos incorporado un Taller de Python con el objetivo de presentar un contexto introductorio de las herramientas disponibles para el análisis de datos enfocado a datos asociados a problemas que provienen de la Industria Mexicana.\n",
        "\n",
        "Estas libretas son una adaptación del texto\n",
        "\n",
        "> *The Python Data Science Handbook* by Jake VanderPlas (O’Reilly). Copyright 2016 Jake VanderPlas, 978-1-491-91205-8.\n",
        "\n"
      ]
    },
    {
      "cell_type": "markdown",
      "metadata": {
        "id": "kFi-o1C_3mz8",
        "colab_type": "text"
      },
      "source": [
        "## Descripcion del Taller\n",
        "\n",
        "El Taller se divide en tres secciones y cubren una introduccion a las herramientas fundamentales de Python para la Ciencia de Datos:\n",
        "\n",
        "1. NumPy: la libreria numérica de Python que permite crear, guardar y operar arreglos de datos de forma efectiva.\n",
        "2. Pandas: librearia que ofrece el ``DataFrame`` para la manipulacion eficiente de datos etiquetados y en formato de columna.\n",
        "3. Scikit-Learn: algoritmos de aprendizaje de maquina eficientes."
      ]
    },
    {
      "cell_type": "markdown",
      "metadata": {
        "id": "lgH_RxOT3m0U",
        "colab_type": "text"
      },
      "source": [
        "## Consideraciones de software\n",
        "\n",
        "Instalar Python y las librerias necesarias para este Taller es sencillo y la recomendación es usar la distribución de [Anaconda](https://www.continuum.io/downloads)  si quieren tener acceso al ecosistema en sus máquinas locales. Sin embargo nosotros estaremos usando la infraestructura ofrecida por [Colab Google](https://colab.research.google.com) en la nube, lo cual nos ahorrara tiempo en la instalacion y configuracion, permitiendonos inmediatamente comenzar a trabajar hacia los objetivos que queremos alcanzar."
      ]
    },
    {
      "cell_type": "markdown",
      "metadata": {
        "id": "yTk3UMYi3m0i",
        "colab_type": "text"
      },
      "source": [
        "<!--NAVIGATION-->\n",
        "| [Contenido](Index.ipynb) | [Introducción a NumPy](01.00-Introduction-to-NumPy.ipynb) >\n",
        "\n",
        "<a href=\"https://colab.research.google.com/github/htapia/TallerPythonIntroCienciaDatos/blob/master/notebooks/00.00-Preface.ipynb\"><img align=\"left\" src=\"https://colab.research.google.com/assets/colab-badge.svg\" alt=\"Open in Colab\" title=\"Open and Execute in Google Colaboratory\"></a>\n"
      ]
    }
  ]
}