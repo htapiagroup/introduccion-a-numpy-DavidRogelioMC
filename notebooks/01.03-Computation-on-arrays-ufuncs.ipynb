{
  "nbformat": 4,
  "nbformat_minor": 0,
  "metadata": {
    "anaconda-cloud": {},
    "kernelspec": {
      "display_name": "Python 2",
      "language": "python",
      "name": "python2"
    },
    "language_info": {
      "codemirror_mode": {
        "name": "ipython",
        "version": 2
      },
      "file_extension": ".py",
      "mimetype": "text/x-python",
      "name": "python",
      "nbconvert_exporter": "python",
      "pygments_lexer": "ipython2",
      "version": "2.7.15"
    },
    "colab": {
      "name": "01.03-Computation-on-arrays-ufuncs.ipynb",
      "provenance": [],
      "include_colab_link": true
    }
  },
  "cells": [
    {
      "cell_type": "markdown",
      "metadata": {
        "id": "view-in-github",
        "colab_type": "text"
      },
      "source": [
        "<a href=\"https://colab.research.google.com/github/htapiagroup/introduccion-a-numpy-DavidRogelioMC/blob/master/notebooks/01.03-Computation-on-arrays-ufuncs.ipynb\" target=\"_parent\"><img src=\"https://colab.research.google.com/assets/colab-badge.svg\" alt=\"Open In Colab\"/></a>"
      ]
    },
    {
      "cell_type": "markdown",
      "metadata": {
        "id": "iuuXeUZKk4VB",
        "colab_type": "text"
      },
      "source": [
        "<!--BOOK_INFORMATION-->\n",
        "<img align=\"left\" style=\"padding-right:10px;\" src=\"https://github.com/DavidRogelioMC/TallerPythonIntroCienciaDatos/blob/master/notebooks/figures/header_small.png?raw=1\">\n",
        "\n",
        "*Esta libreta contiene material del Taller de Python que se lleva a cabo como parte del \n",
        "evento [Data Challenge Industrial 4.0](www.lania.mx/dci). El contenido ha sido adaptado \n",
        "por HTM y GED a partir del libro [Python Data Science Handbook](http://shop.oreilly.com/product/0636920034919.do) \n",
        "de Jake VanderPlas y se mantiene la licencia sobre el texto, \n",
        "[CC-BY-NC-ND license](https://creativecommons.org/licenses/by-nc-nd/3.0/us/legalcode), \n",
        "y sobre el codigo [MIT license](https://opensource.org/licenses/MIT).*"
      ]
    },
    {
      "cell_type": "markdown",
      "metadata": {
        "id": "yZgYZEkgk4Vo",
        "colab_type": "text"
      },
      "source": [
        "<!--NAVIGATION-->\n",
        "< [Basicos de NumPy: arreglos](01.02-The-Basics-Of-NumPy-Arrays.ipynb) | [Contenido](Index.ipynb) | [Agregaciones: Min, Max, etc.](01.04-Computation-on-arrays-aggregates.ipynb) >\n",
        "\n",
        "<a href=\"https://colab.research.google.com/github/htapia/TallerPythonIntroCienciaDatos/blob/master/notebooks/01.03-Computation-on-arrays-ufuncs.ipynb\"><img align=\"left\" src=\"https://colab.research.google.com/assets/colab-badge.svg\" alt=\"Open in Colab\" title=\"Open and Execute in Google Colaboratory\"></a>\n"
      ]
    },
    {
      "cell_type": "markdown",
      "metadata": {
        "id": "8CfLOHX7k4V-",
        "colab_type": "text"
      },
      "source": [
        "# Cálculos con Arrays 1. Ufuncs"
      ]
    },
    {
      "cell_type": "markdown",
      "metadata": {
        "id": "-0rRPIO1k4WM",
        "colab_type": "text"
      },
      "source": [
        "## Los Loops son Lentooosss"
      ]
    },
    {
      "cell_type": "code",
      "metadata": {
        "id": "CqtMxaHEk4Wb",
        "colab_type": "code",
        "colab": {
          "base_uri": "https://localhost:8080/",
          "height": 34
        },
        "outputId": "4bd36771-6bb0-467a-ffe7-a6b20d126308"
      },
      "source": [
        "import numpy as np\n",
        "np.random.seed(0)\n",
        "\n",
        "def compute_reciprocals(values):\n",
        "    output = np.empty(len(values))\n",
        "    for i in range(len(values)):\n",
        "        output[i] = 1.0 / values[i]\n",
        "    return output\n",
        "        \n",
        "values = np.random.randint(1, 10, size=5)\n",
        "compute_reciprocals(values)"
      ],
      "execution_count": 6,
      "outputs": [
        {
          "output_type": "execute_result",
          "data": {
            "text/plain": [
              "array([0.16666667, 1.        , 0.25      , 0.25      , 0.125     ])"
            ]
          },
          "metadata": {
            "tags": []
          },
          "execution_count": 6
        }
      ]
    },
    {
      "cell_type": "code",
      "metadata": {
        "id": "i9U9Gf-_k4XU",
        "colab_type": "code",
        "colab": {
          "base_uri": "https://localhost:8080/",
          "height": 34
        },
        "outputId": "964c649d-fe11-4580-f3d1-feebb02fc900"
      },
      "source": [
        "big_array = np.random.randint(1, 100, size=1000000)\n",
        "%timeit compute_reciprocals(big_array)"
      ],
      "execution_count": 9,
      "outputs": [
        {
          "output_type": "stream",
          "text": [
            "1 loop, best of 3: 228 ms per loop\n"
          ],
          "name": "stdout"
        }
      ]
    },
    {
      "cell_type": "markdown",
      "metadata": {
        "id": "hn3Yf9tfk4X-",
        "colab_type": "text"
      },
      "source": [
        "## UFuncs\n",
        "\n",
        "Operaciones *vectorizadas*"
      ]
    },
    {
      "cell_type": "code",
      "metadata": {
        "id": "EYh50ls0k4YJ",
        "colab_type": "code",
        "colab": {
          "base_uri": "https://localhost:8080/",
          "height": 52
        },
        "outputId": "3e256b5f-a4ee-4db4-b391-4b25f62b360f"
      },
      "source": [
        "print(compute_reciprocals(values))\n",
        "print(1.0 / values)"
      ],
      "execution_count": 10,
      "outputs": [
        {
          "output_type": "stream",
          "text": [
            "[0.16666667 1.         0.25       0.25       0.125     ]\n",
            "[0.16666667 1.         0.25       0.25       0.125     ]\n"
          ],
          "name": "stdout"
        }
      ]
    },
    {
      "cell_type": "code",
      "metadata": {
        "id": "9-JWOCtnk4Y-",
        "colab_type": "code",
        "colab": {
          "base_uri": "https://localhost:8080/",
          "height": 72
        },
        "outputId": "aeff514d-28d7-43f3-d3b5-c97683120dde"
      },
      "source": [
        "%timeit (1.0 / big_array)"
      ],
      "execution_count": 11,
      "outputs": [
        {
          "output_type": "stream",
          "text": [
            "The slowest run took 4.31 times longer than the fastest. This could mean that an intermediate result is being cached.\n",
            "100 loops, best of 3: 3.4 ms per loop\n"
          ],
          "name": "stdout"
        }
      ]
    },
    {
      "cell_type": "code",
      "metadata": {
        "id": "So0xsIPgk4Ze",
        "colab_type": "code",
        "colab": {
          "base_uri": "https://localhost:8080/",
          "height": 34
        },
        "outputId": "23147294-f5f0-4486-e489-521f2d17f437"
      },
      "source": [
        "np.arange(5) / np.arange(1, 6)"
      ],
      "execution_count": 12,
      "outputs": [
        {
          "output_type": "execute_result",
          "data": {
            "text/plain": [
              "array([0, 0, 0, 0, 0])"
            ]
          },
          "metadata": {
            "tags": []
          },
          "execution_count": 12
        }
      ]
    },
    {
      "cell_type": "code",
      "metadata": {
        "id": "Td6kQy6Nk4aC",
        "colab_type": "code",
        "colab": {
          "base_uri": "https://localhost:8080/",
          "height": 69
        },
        "outputId": "bf2ef576-213e-4807-8bc5-9cc37534cc93"
      },
      "source": [
        "x = np.arange(9).reshape((3, 3))\n",
        "2 ** x"
      ],
      "execution_count": 13,
      "outputs": [
        {
          "output_type": "execute_result",
          "data": {
            "text/plain": [
              "array([[  1,   2,   4],\n",
              "       [  8,  16,  32],\n",
              "       [ 64, 128, 256]])"
            ]
          },
          "metadata": {
            "tags": []
          },
          "execution_count": 13
        }
      ]
    },
    {
      "cell_type": "markdown",
      "metadata": {
        "id": "lWFe6atbk4at",
        "colab_type": "text"
      },
      "source": [
        "Cálculos usando vectorizacion a través de ufuncs son en general más eficientes que la implementación usando loops"
      ]
    },
    {
      "cell_type": "markdown",
      "metadata": {
        "id": "JG42489Ek4a3",
        "colab_type": "text"
      },
      "source": [
        "## Exploración de UFuncs\n",
        "\n",
        "Ufuncs: \n",
        "- *unary ufuncs*, operan sobre una sola entrada \n",
        "- *binary ufuncs*, operan sobre dos entradas."
      ]
    },
    {
      "cell_type": "markdown",
      "metadata": {
        "id": "w-Xg09TBk4a_",
        "colab_type": "text"
      },
      "source": [
        "### Aritmética de Array \n",
        "\n",
        "Las operaciones aritméticas de adición, substracción, multiplicación y división standard:"
      ]
    },
    {
      "cell_type": "code",
      "metadata": {
        "id": "JMp8856Ok4bI",
        "colab_type": "code",
        "colab": {
          "base_uri": "https://localhost:8080/",
          "height": 121
        },
        "outputId": "a063ce99-6cf7-4f74-c6b5-c472bf18cd88"
      },
      "source": [
        "x = np.arange(4)\n",
        "print(\"x     =\", x)\n",
        "print(\"x + 5 =\", x + 5)\n",
        "print(\"x - 5 =\", x - 5)\n",
        "print(\"x * 2 =\", x * 2)\n",
        "print(\"x / 2 =\", x / 2)\n",
        "print(\"x // 2 =\", x // 2)  # floor division"
      ],
      "execution_count": 16,
      "outputs": [
        {
          "output_type": "stream",
          "text": [
            "('x     =', array([0, 1, 2, 3]))\n",
            "('x + 5 =', array([5, 6, 7, 8]))\n",
            "('x - 5 =', array([-5, -4, -3, -2]))\n",
            "('x * 2 =', array([0, 2, 4, 6]))\n",
            "('x / 2 =', array([0, 0, 1, 1]))\n",
            "('x // 2 =', array([0, 0, 1, 1]))\n"
          ],
          "name": "stdout"
        }
      ]
    },
    {
      "cell_type": "markdown",
      "metadata": {
        "id": "qc64hmZ8k4bq",
        "colab_type": "text"
      },
      "source": [
        "Negation, operador de exponencia ``**`` y operador de módulo ``%``:"
      ]
    },
    {
      "cell_type": "code",
      "metadata": {
        "id": "1r-1MjMak4bz",
        "colab_type": "code",
        "colab": {
          "base_uri": "https://localhost:8080/",
          "height": 69
        },
        "outputId": "7ff1b1af-aac0-48dc-a5d7-7e6cb4c0818d"
      },
      "source": [
        "print(\"-x     = \", -x)\n",
        "print(\"x ** 2 = \", x ** 2)\n",
        "print(\"x % 2  = \", x % 2)"
      ],
      "execution_count": 18,
      "outputs": [
        {
          "output_type": "stream",
          "text": [
            "('-x     = ', array([ 0, -1, -2, -3]))\n",
            "('x ** 2 = ', array([0, 1, 4, 9]))\n",
            "('x % 2  = ', array([0, 1, 0, 1]))\n"
          ],
          "name": "stdout"
        }
      ]
    },
    {
      "cell_type": "markdown",
      "metadata": {
        "id": "VEW9FAZlk4ca",
        "colab_type": "text"
      },
      "source": [
        "Orden standard de las operaciones:"
      ]
    },
    {
      "cell_type": "code",
      "metadata": {
        "id": "59ODqR4Bk4ch",
        "colab_type": "code",
        "colab": {
          "base_uri": "https://localhost:8080/",
          "height": 34
        },
        "outputId": "755be7b1-e4e9-445b-e283-fc755df25106"
      },
      "source": [
        "-(0.5*x + 1) ** 2"
      ],
      "execution_count": 19,
      "outputs": [
        {
          "output_type": "execute_result",
          "data": {
            "text/plain": [
              "array([-1.  , -2.25, -4.  , -6.25])"
            ]
          },
          "metadata": {
            "tags": []
          },
          "execution_count": 19
        }
      ]
    },
    {
      "cell_type": "markdown",
      "metadata": {
        "id": "LyE8A6POk4dF",
        "colab_type": "text"
      },
      "source": [
        "El operador ``+`` es un wrapper para la función ``add``:"
      ]
    },
    {
      "cell_type": "code",
      "metadata": {
        "id": "kEsU9O8pk4dN",
        "colab_type": "code",
        "colab": {
          "base_uri": "https://localhost:8080/",
          "height": 34
        },
        "outputId": "601675c6-202c-4284-89a9-a0faa99751e7"
      },
      "source": [
        "np.add(x, 2)"
      ],
      "execution_count": 20,
      "outputs": [
        {
          "output_type": "execute_result",
          "data": {
            "text/plain": [
              "array([2, 3, 4, 5])"
            ]
          },
          "metadata": {
            "tags": []
          },
          "execution_count": 20
        }
      ]
    },
    {
      "cell_type": "markdown",
      "metadata": {
        "id": "MxH1GEQ8k4d1",
        "colab_type": "text"
      },
      "source": [
        "The siguiente tabla enlista los operadores aritméticos implementados en NumPy:\n",
        "\n",
        "| Operator\t    | Equivalent ufunc    | Description                           |\n",
        "|---------------|---------------------|---------------------------------------|\n",
        "|``+``          |``np.add``           |Addition (e.g., ``1 + 1 = 2``)         |\n",
        "|``-``          |``np.subtract``      |Subtraction (e.g., ``3 - 2 = 1``)      |\n",
        "|``-``          |``np.negative``      |Unary negation (e.g., ``-2``)          |\n",
        "|``*``          |``np.multiply``      |Multiplication (e.g., ``2 * 3 = 6``)   |\n",
        "|``/``          |``np.divide``        |Division (e.g., ``3 / 2 = 1.5``)       |\n",
        "|``//``         |``np.floor_divide``  |Floor division (e.g., ``3 // 2 = 1``)  |\n",
        "|``**``         |``np.power``         |Exponentiation (e.g., ``2 ** 3 = 8``)  |\n",
        "|``%``          |``np.mod``           |Modulus/remainder (e.g., ``9 % 4 = 1``)|\n",
        "\n",
        "Adicionalmente, hay operadores Boolean; exploraremos éstos en [Comparaciones, mascaras y logica booleana](01.06-Boolean-Arrays-and-Masks.ipynb)."
      ]
    },
    {
      "cell_type": "markdown",
      "metadata": {
        "id": "FcwsDFuJk4d9",
        "colab_type": "text"
      },
      "source": [
        "### Valor Absoluto\n"
      ]
    },
    {
      "cell_type": "code",
      "metadata": {
        "id": "8YJbU2dYk4eH",
        "colab_type": "code",
        "colab": {
          "base_uri": "https://localhost:8080/",
          "height": 34
        },
        "outputId": "73f08f39-f7d8-4f5f-8003-ffc961462269"
      },
      "source": [
        "# Python abs\n",
        "x = np.array([-2, -1, 0, 1, 2])\n",
        "abs(x)"
      ],
      "execution_count": 21,
      "outputs": [
        {
          "output_type": "execute_result",
          "data": {
            "text/plain": [
              "array([2, 1, 0, 1, 2])"
            ]
          },
          "metadata": {
            "tags": []
          },
          "execution_count": 21
        }
      ]
    },
    {
      "cell_type": "code",
      "metadata": {
        "id": "0VOprl7wk4ez",
        "colab_type": "code",
        "colab": {
          "base_uri": "https://localhost:8080/",
          "height": 34
        },
        "outputId": "9b9d47ce-460a-40c3-ec41-d89e662e1571"
      },
      "source": [
        "np.absolute(x)"
      ],
      "execution_count": 22,
      "outputs": [
        {
          "output_type": "execute_result",
          "data": {
            "text/plain": [
              "array([2, 1, 0, 1, 2])"
            ]
          },
          "metadata": {
            "tags": []
          },
          "execution_count": 22
        }
      ]
    },
    {
      "cell_type": "code",
      "metadata": {
        "id": "GugcqEN4k4fS",
        "colab_type": "code",
        "colab": {
          "base_uri": "https://localhost:8080/",
          "height": 34
        },
        "outputId": "980b4696-6a08-4372-83bd-a6c427fe6cf0"
      },
      "source": [
        "np.abs(x)"
      ],
      "execution_count": 23,
      "outputs": [
        {
          "output_type": "execute_result",
          "data": {
            "text/plain": [
              "array([2, 1, 0, 1, 2])"
            ]
          },
          "metadata": {
            "tags": []
          },
          "execution_count": 23
        }
      ]
    },
    {
      "cell_type": "markdown",
      "metadata": {
        "id": "9FaHliCJk4f7",
        "colab_type": "text"
      },
      "source": [
        "Esta ufunc puede operar sobre números complejos:"
      ]
    },
    {
      "cell_type": "code",
      "metadata": {
        "id": "sXIMRGBRk4gD",
        "colab_type": "code",
        "colab": {
          "base_uri": "https://localhost:8080/",
          "height": 34
        },
        "outputId": "a02bb73e-383a-4aae-dd20-4641c1a1a29f"
      },
      "source": [
        "x = np.array([3 - 4j, 4 - 3j, 2 + 0j, 0 + 1j])\n",
        "np.abs(x)"
      ],
      "execution_count": 24,
      "outputs": [
        {
          "output_type": "execute_result",
          "data": {
            "text/plain": [
              "array([5., 5., 2., 1.])"
            ]
          },
          "metadata": {
            "tags": []
          },
          "execution_count": 24
        }
      ]
    },
    {
      "cell_type": "markdown",
      "metadata": {
        "id": "Gu0iAZ6mk4gq",
        "colab_type": "text"
      },
      "source": [
        "### Funciones Trigonometricas\n"
      ]
    },
    {
      "cell_type": "code",
      "metadata": {
        "id": "3EkOPgTck4g2",
        "colab_type": "code",
        "colab": {}
      },
      "source": [
        "theta = np.linspace(0, np.pi, 3)"
      ],
      "execution_count": 0,
      "outputs": []
    },
    {
      "cell_type": "code",
      "metadata": {
        "id": "t-okGin8k4hS",
        "colab_type": "code",
        "colab": {
          "base_uri": "https://localhost:8080/",
          "height": 86
        },
        "outputId": "3e2fa4bf-f869-46ea-87b2-e6a322b657db"
      },
      "source": [
        "print(\"theta      = \", theta)\n",
        "print(\"sin(theta) = \", np.sin(theta))\n",
        "print(\"cos(theta) = \", np.cos(theta))\n",
        "print(\"tan(theta) = \", np.tan(theta))"
      ],
      "execution_count": 26,
      "outputs": [
        {
          "output_type": "stream",
          "text": [
            "('theta      = ', array([0.        , 1.57079633, 3.14159265]))\n",
            "('sin(theta) = ', array([0.0000000e+00, 1.0000000e+00, 1.2246468e-16]))\n",
            "('cos(theta) = ', array([ 1.000000e+00,  6.123234e-17, -1.000000e+00]))\n",
            "('tan(theta) = ', array([ 0.00000000e+00,  1.63312394e+16, -1.22464680e-16]))\n"
          ],
          "name": "stdout"
        }
      ]
    },
    {
      "cell_type": "code",
      "metadata": {
        "id": "Qt8DPFo2k4hv",
        "colab_type": "code",
        "colab": {
          "base_uri": "https://localhost:8080/",
          "height": 86
        },
        "outputId": "9f8710f9-657b-46d3-b206-8f38de130f28"
      },
      "source": [
        "x = [-1, 0, 1]\n",
        "print(\"x         = \", x)\n",
        "print(\"arcsin(x) = \", np.arcsin(x))\n",
        "print(\"arccos(x) = \", np.arccos(x))\n",
        "print(\"arctan(x) = \", np.arctan(x))"
      ],
      "execution_count": 27,
      "outputs": [
        {
          "output_type": "stream",
          "text": [
            "('x         = ', [-1, 0, 1])\n",
            "('arcsin(x) = ', array([-1.57079633,  0.        ,  1.57079633]))\n",
            "('arccos(x) = ', array([3.14159265, 1.57079633, 0.        ]))\n",
            "('arctan(x) = ', array([-0.78539816,  0.        ,  0.78539816]))\n"
          ],
          "name": "stdout"
        }
      ]
    },
    {
      "cell_type": "markdown",
      "metadata": {
        "id": "Egw-0VLpk4iT",
        "colab_type": "text"
      },
      "source": [
        "### Exponentes y Logaritmos\n"
      ]
    },
    {
      "cell_type": "code",
      "metadata": {
        "id": "uPek2_45k4ib",
        "colab_type": "code",
        "colab": {
          "base_uri": "https://localhost:8080/",
          "height": 86
        },
        "outputId": "bf696e6b-79e8-4783-fb93-a2e42fbe350b"
      },
      "source": [
        "x = [1, 2, 3]\n",
        "print(\"x     =\", x)\n",
        "print(\"e^x   =\", np.exp(x))\n",
        "print(\"2^x   =\", np.exp2(x))\n",
        "print(\"3^x   =\", np.power(3, x))"
      ],
      "execution_count": 28,
      "outputs": [
        {
          "output_type": "stream",
          "text": [
            "('x     =', [1, 2, 3])\n",
            "('e^x   =', array([ 2.71828183,  7.3890561 , 20.08553692]))\n",
            "('2^x   =', array([2., 4., 8.]))\n",
            "('3^x   =', array([ 3,  9, 27]))\n"
          ],
          "name": "stdout"
        }
      ]
    },
    {
      "cell_type": "code",
      "metadata": {
        "id": "WA4FrUHpk4jI",
        "colab_type": "code",
        "colab": {
          "base_uri": "https://localhost:8080/",
          "height": 86
        },
        "outputId": "1f7160a8-d5ea-431f-d1b9-da3d9b10d952"
      },
      "source": [
        "x = [1, 2, 4, 10]\n",
        "print(\"x        =\", x)\n",
        "print(\"ln(x)    =\", np.log(x))\n",
        "print(\"log2(x)  =\", np.log2(x))\n",
        "print(\"log10(x) =\", np.log10(x))"
      ],
      "execution_count": 29,
      "outputs": [
        {
          "output_type": "stream",
          "text": [
            "('x        =', [1, 2, 4, 10])\n",
            "('ln(x)    =', array([0.        , 0.69314718, 1.38629436, 2.30258509]))\n",
            "('log2(x)  =', array([0.        , 1.        , 2.        , 3.32192809]))\n",
            "('log10(x) =', array([0.        , 0.30103   , 0.60205999, 1.        ]))\n"
          ],
          "name": "stdout"
        }
      ]
    },
    {
      "cell_type": "code",
      "metadata": {
        "id": "KLDPlbf_k4jp",
        "colab_type": "code",
        "colab": {
          "base_uri": "https://localhost:8080/",
          "height": 52
        },
        "outputId": "7094c963-735c-4314-b4d8-7f6dfefe0cb7"
      },
      "source": [
        "# for small input\n",
        "x = [0, 0.001, 0.01, 0.1]\n",
        "print(\"exp(x) - 1 =\", np.expm1(x))\n",
        "print(\"log(1 + x) =\", np.log1p(x))"
      ],
      "execution_count": 30,
      "outputs": [
        {
          "output_type": "stream",
          "text": [
            "('exp(x) - 1 =', array([0.        , 0.0010005 , 0.01005017, 0.10517092]))\n",
            "('log(1 + x) =', array([0.        , 0.0009995 , 0.00995033, 0.09531018]))\n"
          ],
          "name": "stdout"
        }
      ]
    },
    {
      "cell_type": "markdown",
      "metadata": {
        "id": "EsvdMmilk4kB",
        "colab_type": "text"
      },
      "source": [
        "### Ufuncs especializadas\n"
      ]
    },
    {
      "cell_type": "code",
      "metadata": {
        "id": "Miad9EEnk4kI",
        "colab_type": "code",
        "colab": {}
      },
      "source": [
        "from scipy import special"
      ],
      "execution_count": 0,
      "outputs": []
    },
    {
      "cell_type": "code",
      "metadata": {
        "id": "gG6YYqyxk4kk",
        "colab_type": "code",
        "colab": {
          "base_uri": "https://localhost:8080/",
          "height": 69
        },
        "outputId": "d0eb291f-7dc1-4efe-9c6a-d0425e086fc9"
      },
      "source": [
        "# Gamma functions (generalized factorials) and related functions\n",
        "x = [1, 5, 10]\n",
        "print(\"gamma(x)     =\", special.gamma(x))\n",
        "print(\"ln|gamma(x)| =\", special.gammaln(x))\n",
        "print(\"beta(x, 2)   =\", special.beta(x, 2))"
      ],
      "execution_count": 32,
      "outputs": [
        {
          "output_type": "stream",
          "text": [
            "('gamma(x)     =', array([1.0000e+00, 2.4000e+01, 3.6288e+05]))\n",
            "('ln|gamma(x)| =', array([ 0.        ,  3.17805383, 12.80182748]))\n",
            "('beta(x, 2)   =', array([0.5       , 0.03333333, 0.00909091]))\n"
          ],
          "name": "stdout"
        }
      ]
    },
    {
      "cell_type": "code",
      "metadata": {
        "id": "iCZJG0SJk4lN",
        "colab_type": "code",
        "colab": {
          "base_uri": "https://localhost:8080/",
          "height": 69
        },
        "outputId": "11d38214-0935-413f-da98-735026f3de47"
      },
      "source": [
        "# Error function (integral of Gaussian)\n",
        "# its complement, and its inverse\n",
        "x = np.array([0, 0.3, 0.7, 1.0])\n",
        "print(\"erf(x)  =\", special.erf(x))\n",
        "print(\"erfc(x) =\", special.erfc(x))\n",
        "print(\"erfinv(x) =\", special.erfinv(x))"
      ],
      "execution_count": 33,
      "outputs": [
        {
          "output_type": "stream",
          "text": [
            "('erf(x)  =', array([0.        , 0.32862676, 0.67780119, 0.84270079]))\n",
            "('erfc(x) =', array([1.        , 0.67137324, 0.32219881, 0.15729921]))\n",
            "('erfinv(x) =', array([0.        , 0.27246271, 0.73286908,        inf]))\n"
          ],
          "name": "stdout"
        }
      ]
    },
    {
      "cell_type": "markdown",
      "metadata": {
        "id": "RU4jy8QYk4lz",
        "colab_type": "text"
      },
      "source": [
        "## Propiedades Avanzadas de Ufunc \n"
      ]
    },
    {
      "cell_type": "markdown",
      "metadata": {
        "id": "uuMcpJBhk4l9",
        "colab_type": "text"
      },
      "source": [
        "### Especificando la salida\n",
        "\n",
        "Todas las ufuncs pueden usar el argumento ``out`` para indicar donde asignar el resultado"
      ]
    },
    {
      "cell_type": "code",
      "metadata": {
        "id": "Zv8alIH1k4mK",
        "colab_type": "code",
        "colab": {
          "base_uri": "https://localhost:8080/",
          "height": 34
        },
        "outputId": "7fe7e983-87b1-4bc7-e2bb-674a46fd1e8d"
      },
      "source": [
        "x = np.arange(5)\n",
        "y = np.empty(5)\n",
        "np.multiply(x, 10, out=y)\n",
        "print(y)"
      ],
      "execution_count": 34,
      "outputs": [
        {
          "output_type": "stream",
          "text": [
            "[ 0. 10. 20. 30. 40.]\n"
          ],
          "name": "stdout"
        }
      ]
    },
    {
      "cell_type": "code",
      "metadata": {
        "id": "yS8E-Ns7k4mr",
        "colab_type": "code",
        "colab": {
          "base_uri": "https://localhost:8080/",
          "height": 34
        },
        "outputId": "c40eadf1-e7fb-49f3-a348-ffeec2a3d094"
      },
      "source": [
        "y = np.zeros(10)\n",
        "np.power(2, x, out=y[::2])\n",
        "print(y)"
      ],
      "execution_count": 35,
      "outputs": [
        {
          "output_type": "stream",
          "text": [
            "[ 1.  0.  2.  0.  4.  0.  8.  0. 16.  0.]\n"
          ],
          "name": "stdout"
        }
      ]
    },
    {
      "cell_type": "code",
      "metadata": {
        "id": "QzRCnOAFk4nJ",
        "colab_type": "code",
        "colab": {}
      },
      "source": [
        "# lo mismo pero crea un array temporal para guardar el resultado de 2**x, \n",
        "# seguido de una segunda operacion que copia esos valores a y \n",
        "# que puede ser costoso para arrays grandes\n",
        "y = np.zeros(10)\n",
        "y[::2] = 2**x"
      ],
      "execution_count": 0,
      "outputs": []
    },
    {
      "cell_type": "markdown",
      "metadata": {
        "id": "CQUf7JM-k4nf",
        "colab_type": "text"
      },
      "source": [
        "### Agregaciones\n"
      ]
    },
    {
      "cell_type": "code",
      "metadata": {
        "id": "NC4TifcXk4nq",
        "colab_type": "code",
        "colab": {
          "base_uri": "https://localhost:8080/",
          "height": 34
        },
        "outputId": "d3c7b7a1-d0f6-43d3-f5ea-d5fd5d9f31b4"
      },
      "source": [
        "x = np.arange(1, 6)\n",
        "np.add.reduce(x)"
      ],
      "execution_count": 37,
      "outputs": [
        {
          "output_type": "execute_result",
          "data": {
            "text/plain": [
              "15"
            ]
          },
          "metadata": {
            "tags": []
          },
          "execution_count": 37
        }
      ]
    },
    {
      "cell_type": "code",
      "metadata": {
        "id": "4zVxdSnlk4oC",
        "colab_type": "code",
        "colab": {
          "base_uri": "https://localhost:8080/",
          "height": 34
        },
        "outputId": "0b3bd913-ab27-4f43-b5fa-bee1441fcc4a"
      },
      "source": [
        "np.multiply.reduce(x)"
      ],
      "execution_count": 38,
      "outputs": [
        {
          "output_type": "execute_result",
          "data": {
            "text/plain": [
              "120"
            ]
          },
          "metadata": {
            "tags": []
          },
          "execution_count": 38
        }
      ]
    },
    {
      "cell_type": "code",
      "metadata": {
        "id": "7TS79Y3zk4og",
        "colab_type": "code",
        "colab": {
          "base_uri": "https://localhost:8080/",
          "height": 34
        },
        "outputId": "034d6135-4b20-4ffd-cc5f-b5af3220c8a3"
      },
      "source": [
        "np.add.accumulate(x)"
      ],
      "execution_count": 39,
      "outputs": [
        {
          "output_type": "execute_result",
          "data": {
            "text/plain": [
              "array([ 1,  3,  6, 10, 15])"
            ]
          },
          "metadata": {
            "tags": []
          },
          "execution_count": 39
        }
      ]
    },
    {
      "cell_type": "code",
      "metadata": {
        "id": "Bz0I0Yf_k4o3",
        "colab_type": "code",
        "colab": {
          "base_uri": "https://localhost:8080/",
          "height": 34
        },
        "outputId": "0e453cb5-912e-4320-f466-311227835a5c"
      },
      "source": [
        "np.multiply.accumulate(x)"
      ],
      "execution_count": 40,
      "outputs": [
        {
          "output_type": "execute_result",
          "data": {
            "text/plain": [
              "array([  1,   2,   6,  24, 120])"
            ]
          },
          "metadata": {
            "tags": []
          },
          "execution_count": 40
        }
      ]
    },
    {
      "cell_type": "markdown",
      "metadata": {
        "id": "xYVdR4rwk4pQ",
        "colab_type": "text"
      },
      "source": [
        "Exploraremos un poco mas en [Agregaciones: Min, Max, etc.](01.04-Computation-on-arrays-aggregates.ipynb)."
      ]
    },
    {
      "cell_type": "markdown",
      "metadata": {
        "id": "eOHofnmSk4ph",
        "colab_type": "text"
      },
      "source": [
        "### Productos exteriores\n"
      ]
    },
    {
      "cell_type": "code",
      "metadata": {
        "scrolled": true,
        "id": "oVxxPUq9k4pq",
        "colab_type": "code",
        "colab": {
          "base_uri": "https://localhost:8080/",
          "height": 104
        },
        "outputId": "2d4e7631-8962-44e9-e37a-38dd67fa1ef4"
      },
      "source": [
        "x = np.arange(1, 6)\n",
        "np.multiply.outer(x, x)"
      ],
      "execution_count": 41,
      "outputs": [
        {
          "output_type": "execute_result",
          "data": {
            "text/plain": [
              "array([[ 1,  2,  3,  4,  5],\n",
              "       [ 2,  4,  6,  8, 10],\n",
              "       [ 3,  6,  9, 12, 15],\n",
              "       [ 4,  8, 12, 16, 20],\n",
              "       [ 5, 10, 15, 20, 25]])"
            ]
          },
          "metadata": {
            "tags": []
          },
          "execution_count": 41
        }
      ]
    },
    {
      "cell_type": "markdown",
      "metadata": {
        "id": "pSRbzJDqk4qF",
        "colab_type": "text"
      },
      "source": [
        "Otros métodos se exploran en [Más índices](01.07-Fancy-Indexing.ipynb),asi como la habilidad de operar entre arrays de distintos tamaños y formas, llamado *broadcasting*, que se ve en [Calculos con Arrays 2. Broadcasting](01.05-Computation-on-arrays-broadcasting.ipynb)."
      ]
    },
    {
      "cell_type": "markdown",
      "metadata": {
        "id": "udZcHVbGk4qN",
        "colab_type": "text"
      },
      "source": [
        "## Ufuncs: Más información"
      ]
    },
    {
      "cell_type": "markdown",
      "metadata": {
        "id": "zcmgUX4Hk4qX",
        "colab_type": "text"
      },
      "source": [
        "Más información sobre las funciones universales puede consultarse en la documentación de [NumPy](http://www.numpy.org) y [SciPy](http://www.scipy.org)."
      ]
    },
    {
      "cell_type": "markdown",
      "metadata": {
        "id": "xVGz6DlHk4qd",
        "colab_type": "text"
      },
      "source": [
        "<!--NAVIGATION-->\n",
        "< [Basicos de NumPy: arreglos](01.02-The-Basics-Of-NumPy-Arrays.ipynb) | [Contenido](Index.ipynb) | [Agregaciones: Min, Max, etc.](01.04-Computation-on-arrays-aggregates.ipynb) >\n",
        "\n",
        "<a href=\"https://colab.research.google.com/github/htapia/TallerPythonIntroCienciaDatos/blob/master/notebooks/01.03-Computation-on-arrays-ufuncs.ipynb\"><img align=\"left\" src=\"https://colab.research.google.com/assets/colab-badge.svg\" alt=\"Open in Colab\" title=\"Open and Execute in Google Colaboratory\"></a>\n"
      ]
    }
  ]
}